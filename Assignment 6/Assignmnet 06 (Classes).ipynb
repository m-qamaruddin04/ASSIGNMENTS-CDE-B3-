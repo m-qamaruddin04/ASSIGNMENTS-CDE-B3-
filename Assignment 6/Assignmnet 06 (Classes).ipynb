{
  "cells": [
    {
      "cell_type": "markdown",
      "metadata": {
        "id": "XLFr4w_7OFN7"
      },
      "source": [
        "1. Write a Python program to create a class representing a Circle. Include methods to calculate its area and perimeter."
      ]
    },
    {
      "cell_type": "code",
      "execution_count": null,
      "metadata": {},
      "outputs": [],
      "source": [
        "#Q1- Write a Python program to create a class representing a Circle. Include methods to calculate its area and perimeter.\n",
        "\n",
        "import math\n",
        "\n",
        "# Circle class\n",
        "class Circle:\n",
        "    def __init__(self, radius):\n",
        "        self.radius = radius\n",
        "\n",
        "    # Method to calculate area\n",
        "    def area(self):\n",
        "        return math.pi * self.radius ** 2\n",
        "\n",
        "    # Method to calculate perimeter (circumference)\n",
        "    def perimeter(self):\n",
        "        return 2 * math.pi * self.radius\n",
        "\n",
        "\n",
        "# Example usage\n",
        "r = float(input(\"Enter the radius of the circle: \"))\n",
        "circle = Circle(r)\n",
        "\n",
        "print(f\"Area of the circle: {circle.area():.2f}\")\n",
        "print(f\"Perimeter (Circumference) of the circle: {circle.perimeter():.2f}\")\n"
      ]
    },
    {
      "cell_type": "markdown",
      "metadata": {
        "id": "CBPk4mH4OTCO"
      },
      "source": [
        "2. Write a Python program to create a person class. Include attributes like name, country and date of birth. Implement a method to determine the person's age.\n"
      ]
    },
    {
      "cell_type": "code",
      "execution_count": null,
      "metadata": {},
      "outputs": [],
      "source": [
        "# Q2- Write a Python program to create a person class. Include attributes like name, country and date of birth. Implement a method to determine the person's age.\n",
        "#from datetime import date, datetime\n",
        "\n",
        "# Person class\n",
        "class Person:\n",
        "    def __init__(self, name, country, dob):\n",
        "        self.name = name\n",
        "        self.country = country\n",
        "        # dob should be in 'YYYY-MM-DD' format\n",
        "        self.dob = datetime.strptime(dob, \"%Y-%m-%d\").date()\n",
        "\n",
        "    # Method to calculate age\n",
        "    def age(self):\n",
        "        today = date.today()\n",
        "        years = today.year - self.dob.year\n",
        "        # Adjust if birthday has not occurred this year yet\n",
        "        if (today.month, today.day) < (self.dob.month, self.dob.day):\n",
        "            years -= 1\n",
        "        return years\n",
        "\n",
        "# Example usage\n",
        "name = input(\"Enter name: \")\n",
        "country = input(\"Enter country: \")\n",
        "dob = input(\"Enter date of birth (YYYY-MM-DD): \")\n",
        "\n",
        "person = Person(name, country, dob)\n",
        "\n",
        "print(f\"{person.name} from {person.country} is {person.age()} years old.\")\n"
      ]
    },
    {
      "cell_type": "markdown",
      "metadata": {},
      "source": [
        "3. Write a Python program to create a calculator class. Include methods for basic arithmetic operations."
      ]
    },
    {
      "cell_type": "code",
      "execution_count": null,
      "metadata": {},
      "outputs": [],
      "source": [
        "# Q3- Write a Python program to create a calculator class. Include methods for basic arithmetic operations.\n",
        "\n",
        "# Calculator class\n",
        "class Calculator:\n",
        "    # Addition\n",
        "    def add(self, a, b):\n",
        "        return a + b\n",
        "\n",
        "    # Subtraction\n",
        "    def subtract(self, a, b):\n",
        "        return a - b\n",
        "\n",
        "    # Multiplication\n",
        "    def multiply(self, a, b):\n",
        "        return a * b\n",
        "\n",
        "    # Division\n",
        "    def divide(self, a, b):\n",
        "        if b != 0:\n",
        "            return a / b\n",
        "        else:\n",
        "            return \"Error! Division by zero.\"\n",
        "\n",
        "# Example usage\n",
        "calc = Calculator()\n",
        "\n",
        "num1 = float(input(\"Enter first number: \"))\n",
        "num2 = float(input(\"Enter second number: \"))\n",
        "\n",
        "print(f\"{num1} + {num2} = {calc.add(num1, num2)}\")\n",
        "print(f\"{num1} - {num2} = {calc.subtract(num1, num2)}\")\n",
        "print(f\"{num1} * {num2} = {calc.multiply(num1, num2)}\")\n",
        "print(f\"{num1} / {num2} = {calc.divide(num1, num2)}\")\n"
      ]
    }
  ],
  "metadata": {
    "colab": {
      "provenance": []
    },
    "kernelspec": {
      "display_name": "Python 3",
      "name": "python3"
    },
    "language_info": {
      "codemirror_mode": {
        "name": "ipython",
        "version": 3
      },
      "file_extension": ".py",
      "mimetype": "text/x-python",
      "name": "python",
      "nbconvert_exporter": "python",
      "pygments_lexer": "ipython3",
      "version": "3.12.4"
    }
  },
  "nbformat": 4,
  "nbformat_minor": 0
}
